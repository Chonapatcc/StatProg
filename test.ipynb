{
 "cells": [
  {
   "cell_type": "code",
   "execution_count": 4,
   "metadata": {},
   "outputs": [],
   "source": [
    "import pandas as pd\n",
    "import numpy as np\n",
    "from scipy import stats\n",
    "import statsmodels.api as sm\n",
    "from statsmodels.stats.weightstats import ztest\n",
    "from statsmodels.stats.proportion import proportions_ztest"
   ]
  },
  {
   "cell_type": "code",
   "execution_count": 8,
   "metadata": {},
   "outputs": [
    {
     "name": "stdout",
     "output_type": "stream",
     "text": [
      "0.9937903346742238 0.10564977366685535 0.4015141183333797 0.00964186994535833 0.7485711049046899 0.8812647420394695\n"
     ]
    }
   ],
   "source": [
    "#6.2\n",
    "#1\n",
    "x1 = stats.norm.cdf(2.5)\n",
    "x2 = stats.norm.sf(1.25)\n",
    "x3 = stats.norm.cdf(2.07) - stats.norm.cdf(0.2)\n",
    "x4 = stats.norm.cdf(-2.34)\n",
    "x5 = stats.norm.sf(-0.67)\n",
    "x6 = stats.norm.cdf(2.35)- stats.norm.cdf(-1.23)\n",
    "print(x1,x2,x3,x4,x5,x6)"
   ]
  },
  {
   "cell_type": "code",
   "execution_count": 10,
   "metadata": {},
   "outputs": [
    {
     "name": "stdout",
     "output_type": "stream",
     "text": [
      "0.6826894921370859\n",
      "0.04736129193961791\n"
     ]
    }
   ],
   "source": [
    "#6.3\n",
    "mu = 100 \n",
    "std = 15\n",
    "#1\n",
    "z1 = (85 -mu)/std\n",
    "z2 = (115 -mu)/std\n",
    "# 85 - 115\n",
    "pz = stats.norm.cdf(z2) - stats.norm.cdf(z1)\n",
    "print(pz)\n",
    "#2 125 - 150\n",
    "z1 = (125 -mu)/std\n",
    "z2 = (150 -mu)/std\n",
    "pz = stats.norm.cdf(z2) - stats.norm.cdf(z1)\n",
    "print(pz) "
   ]
  },
  {
   "cell_type": "code",
   "execution_count": 13,
   "metadata": {},
   "outputs": [
    {
     "name": "stdout",
     "output_type": "stream",
     "text": [
      "380.3001794416802\n"
     ]
    }
   ],
   "source": [
    "#6.4\n",
    "mu = 4.62\n",
    "std= 0.23\n",
    "z =( 5 - mu )/  std\n",
    "x1 = stats.norm.cdf(z)\n",
    "print(x1*400)"
   ]
  },
  {
   "cell_type": "code",
   "execution_count": 15,
   "metadata": {},
   "outputs": [
    {
     "name": "stdout",
     "output_type": "stream",
     "text": [
      "0.30853753872598755\n"
     ]
    }
   ],
   "source": [
    "#6.5\n",
    "mu = 5\n",
    "std = 0.2\n",
    "# x > 5.1\n",
    "z = (5.1- mu )/std\n",
    "x1 = stats.norm.sf(z)\n",
    "print(x1)"
   ]
  },
  {
   "cell_type": "code",
   "execution_count": 19,
   "metadata": {},
   "outputs": [
    {
     "name": "stdout",
     "output_type": "stream",
     "text": [
      "0.8975365981325916 0.10246340186740842 0.36201408216094333 0.050610858035589144 0.7422279324182091 0.8605105794742532\n"
     ]
    }
   ],
   "source": [
    "# 7.8\n",
    "x1 = stats.t.cdf(1.356,df = 10)\n",
    "x2 = stats.t.cdf(-1.356,df = 10)\n",
    "x3 = stats.t.cdf(2.07,df = 3) - stats.t.cdf(0.2,df = 3)\n",
    "x4 = stats.t.cdf(-2.34,df = 3) \n",
    "x5 = stats.t.sf(-0.67,df = 12 )\n",
    "x6 = stats.t.cdf(2.35,df = 12) - stats.t.cdf(-1.23,df = 12)\n",
    "print(x1,x2,x3,x4,x5,x6)"
   ]
  },
  {
   "cell_type": "code",
   "execution_count": 23,
   "metadata": {},
   "outputs": [
    {
     "name": "stdout",
     "output_type": "stream",
     "text": [
      "1.3721836411102863 2.353363434801827 2.178812829663418\n"
     ]
    }
   ],
   "source": [
    "# 7.9\n",
    "#1 \n",
    "x1 = stats.t.ppf(0.9,df=  10)\n",
    "x2 = stats.t.isf(0.05,df = 3)\n",
    "x3 = stats.t.isf(0.05/2,df = 12)\n",
    "print(x1,x2,x3)"
   ]
  },
  {
   "cell_type": "code",
   "execution_count": 26,
   "metadata": {},
   "outputs": [
    {
     "name": "stdout",
     "output_type": "stream",
     "text": [
      "\n",
      "2.671832495873435e-12 0.5 0.9803458248834213\n"
     ]
    }
   ],
   "source": [
    "# 7.10\n",
    "#1\n",
    "std = 2000\n",
    "n = 25\n",
    "mu = 10000\n",
    "t = (15000 - mu )/(std/np.sqrt(n))\n",
    "x1 = stats.t.sf(t,df = n-1)\n",
    "\n",
    "#print(x1)\n",
    "t = (10000 - mu )/(std/np.sqrt(n))\n",
    "x2 = stats.t.sf(t,df = n -1)\n",
    "t1 = (9000 - mu )/(std/np.sqrt(n))\n",
    "t2 = (11000 - mu )/(std/np.sqrt(n))\n",
    "x3 = stats.t.cdf(t2,df=n-1) -stats.t.cdf(t1,df=n-1)\n",
    "print()\n",
    "print(x1,x2,x3)\n",
    "\n"
   ]
  },
  {
   "cell_type": "code",
   "execution_count": 27,
   "metadata": {},
   "outputs": [
    {
     "name": "stdout",
     "output_type": "stream",
     "text": [
      "0.014995686755130537\n"
     ]
    }
   ],
   "source": [
    "#7.11\n",
    "n =25\n",
    "mu = 10000\n",
    "s = 1192\n",
    "# p(mu  > 10550)\n",
    "\n",
    "t = (10550-mu)/(s/np.sqrt(n))\n",
    "p_val = stats.t.sf(t,df = n-1)\n",
    "print(p_val)"
   ]
  },
  {
   "cell_type": "code",
   "execution_count": 29,
   "metadata": {},
   "outputs": [
    {
     "name": "stdout",
     "output_type": "stream",
     "text": [
      "0.635378940502932 0.44971105584869864\n"
     ]
    }
   ],
   "source": [
    "# 7.12\n",
    "#1\n",
    "x1 = stats.chi2.cdf(15.2,df= 14)\n",
    "x2 = stats.chi2.sf(14,df=14)\n",
    "print(x1,x2)"
   ]
  },
  {
   "cell_type": "code",
   "execution_count": 31,
   "metadata": {},
   "outputs": [
    {
     "name": "stdout",
     "output_type": "stream",
     "text": [
      "9.34181776559197 24.99579013972863\n"
     ]
    }
   ],
   "source": [
    "#7.13\n",
    "x1 = stats.chi2.ppf(0.5,df=10)\n",
    "x2 = stats.chi2.isf(0.05,df=15)\n",
    "\n",
    "print(x1,x2)"
   ]
  },
  {
   "cell_type": "code",
   "execution_count": 32,
   "metadata": {},
   "outputs": [
    {
     "name": "stdout",
     "output_type": "stream",
     "text": [
      "166.7 168.5\n"
     ]
    }
   ],
   "source": [
    "#8.1\n",
    "lst = [165,172,157,138,180,175,159,149,190,182]\n",
    "print(np.mean(lst),np.median(lst) )"
   ]
  },
  {
   "cell_type": "code",
   "execution_count": 36,
   "metadata": {},
   "outputs": [
    {
     "name": "stdout",
     "output_type": "stream",
     "text": [
      "1.3925586109974042<mu < 1.6074413890025958\n"
     ]
    }
   ],
   "source": [
    "#8.2\n",
    "n=150\n",
    "mu = 1.5\n",
    "s = 0.8\n",
    "a = 0.1\n",
    "p_crit = stats.norm.isf(0.1/2)\n",
    "print(f\"{mu-p_crit*(s/np.sqrt(n))}<= mu <= {mu+p_crit*(s/np.sqrt(n))}\") "
   ]
  },
  {
   "cell_type": "code",
   "execution_count": 41,
   "metadata": {},
   "outputs": [
    {
     "name": "stdout",
     "output_type": "stream",
     "text": [
      "168.6477472191342<= mu <= 291.3522527808658\n"
     ]
    }
   ],
   "source": [
    "#8.3\n",
    "lst = [200,150,120,300,250,170,220,180,310,400]\n",
    "n=10\n",
    "a = 0.05\n",
    "# use t \n",
    "mu = np.mean(lst)\n",
    "s = np.std(lst,ddof=1)\n",
    "crit = stats.t.isf(0.05/2 , df = n-1) \n",
    "print(f\"{mu-crit*(s/np.sqrt(n))}<= mu <= {mu+crit*(s/np.sqrt(n))}\") \n"
   ]
  },
  {
   "cell_type": "code",
   "execution_count": null,
   "metadata": {},
   "outputs": [],
   "source": [
    "#"
   ]
  }
 ],
 "metadata": {
  "kernelspec": {
   "display_name": "Python 3",
   "language": "python",
   "name": "python3"
  },
  "language_info": {
   "codemirror_mode": {
    "name": "ipython",
    "version": 3
   },
   "file_extension": ".py",
   "mimetype": "text/x-python",
   "name": "python",
   "nbconvert_exporter": "python",
   "pygments_lexer": "ipython3",
   "version": "3.11.4"
  }
 },
 "nbformat": 4,
 "nbformat_minor": 2
}
