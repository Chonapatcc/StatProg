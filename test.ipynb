{
 "cells": [
  {
   "cell_type": "code",
   "execution_count": 36,
   "metadata": {},
   "outputs": [],
   "source": [
    "import pandas as pd\n",
    "import numpy as np\n",
    "from scipy import stats\n",
    "import statsmodels.api as sm\n",
    "from statsmodels.stats.weightstats import ztest\n",
    "from statsmodels.stats.proportion import proportions_ztest"
   ]
  },
  {
   "cell_type": "code",
   "execution_count": 37,
   "metadata": {},
   "outputs": [
    {
     "name": "stdout",
     "output_type": "stream",
     "text": [
      "0.9937903346742238 0.10564977366685535 0.4015141183333797 0.00964186994535833 0.7485711049046899 0.8812647420394695\n"
     ]
    }
   ],
   "source": [
    "#6.2\n",
    "#1\n",
    "x1 = stats.norm.cdf(2.5)\n",
    "x2 = stats.norm.sf(1.25)\n",
    "x3 = stats.norm.cdf(2.07) - stats.norm.cdf(0.2)\n",
    "x4 = stats.norm.cdf(-2.34)\n",
    "x5 = stats.norm.sf(-0.67)\n",
    "x6 = stats.norm.cdf(2.35)- stats.norm.cdf(-1.23)\n",
    "print(x1,x2,x3,x4,x5,x6)"
   ]
  },
  {
   "cell_type": "code",
   "execution_count": 38,
   "metadata": {},
   "outputs": [
    {
     "name": "stdout",
     "output_type": "stream",
     "text": [
      "0.6826894921370859\n",
      "0.04736129193961791\n"
     ]
    }
   ],
   "source": [
    "#6.3\n",
    "mu = 100 \n",
    "std = 15\n",
    "#1\n",
    "z1 = (85 -mu)/std\n",
    "z2 = (115 -mu)/std\n",
    "# 85 - 115\n",
    "pz = stats.norm.cdf(z2) - stats.norm.cdf(z1)\n",
    "print(pz)\n",
    "#2 125 - 150\n",
    "z1 = (125 -mu)/std\n",
    "z2 = (150 -mu)/std\n",
    "pz = stats.norm.cdf(z2) - stats.norm.cdf(z1)\n",
    "print(pz) "
   ]
  },
  {
   "cell_type": "code",
   "execution_count": 39,
   "metadata": {},
   "outputs": [
    {
     "name": "stdout",
     "output_type": "stream",
     "text": [
      "380.3001794416802\n"
     ]
    }
   ],
   "source": [
    "#6.4\n",
    "mu = 4.62\n",
    "std= 0.23\n",
    "z =( 5 - mu )/  std\n",
    "x1 = stats.norm.cdf(z)\n",
    "print(x1*400)"
   ]
  },
  {
   "cell_type": "code",
   "execution_count": 40,
   "metadata": {},
   "outputs": [
    {
     "name": "stdout",
     "output_type": "stream",
     "text": [
      "0.30853753872598755\n"
     ]
    }
   ],
   "source": [
    "#6.5\n",
    "mu = 5\n",
    "std = 0.2\n",
    "# x > 5.1\n",
    "z = (5.1- mu )/std\n",
    "x1 = stats.norm.sf(z)\n",
    "print(x1)"
   ]
  },
  {
   "cell_type": "code",
   "execution_count": 41,
   "metadata": {},
   "outputs": [
    {
     "name": "stdout",
     "output_type": "stream",
     "text": [
      "0.8975365981325916 0.10246340186740842 0.36201408216094333 0.050610858035589144 0.7422279324182091 0.8605105794742532\n"
     ]
    }
   ],
   "source": [
    "# 7.8\n",
    "x1 = stats.t.cdf(1.356,df = 10)\n",
    "x2 = stats.t.cdf(-1.356,df = 10)\n",
    "x3 = stats.t.cdf(2.07,df = 3) - stats.t.cdf(0.2,df = 3)\n",
    "x4 = stats.t.cdf(-2.34,df = 3) \n",
    "x5 = stats.t.sf(-0.67,df = 12 )\n",
    "x6 = stats.t.cdf(2.35,df = 12) - stats.t.cdf(-1.23,df = 12)\n",
    "print(x1,x2,x3,x4,x5,x6)"
   ]
  },
  {
   "cell_type": "code",
   "execution_count": 42,
   "metadata": {},
   "outputs": [
    {
     "name": "stdout",
     "output_type": "stream",
     "text": [
      "1.3721836411102863 2.353363434801827 2.178812829663418\n"
     ]
    }
   ],
   "source": [
    "# 7.9\n",
    "#1 \n",
    "x1 = stats.t.ppf(0.9,df=  10)\n",
    "x2 = stats.t.isf(0.05,df = 3)\n",
    "x3 = stats.t.isf(0.05/2,df = 12)\n",
    "print(x1,x2,x3)"
   ]
  },
  {
   "cell_type": "code",
   "execution_count": 43,
   "metadata": {},
   "outputs": [
    {
     "name": "stdout",
     "output_type": "stream",
     "text": [
      "\n",
      "2.671832495873435e-12 0.5 0.9803458248834213\n"
     ]
    }
   ],
   "source": [
    "# 7.10\n",
    "#1\n",
    "std = 2000\n",
    "n = 25\n",
    "mu = 10000\n",
    "t = (15000 - mu )/(std/np.sqrt(n))\n",
    "x1 = stats.t.sf(t,df = n-1)\n",
    "\n",
    "#print(x1)\n",
    "t = (10000 - mu )/(std/np.sqrt(n))\n",
    "x2 = stats.t.sf(t,df = n -1)\n",
    "t1 = (9000 - mu )/(std/np.sqrt(n))\n",
    "t2 = (11000 - mu )/(std/np.sqrt(n))\n",
    "x3 = stats.t.cdf(t2,df=n-1) -stats.t.cdf(t1,df=n-1)\n",
    "print()\n",
    "print(x1,x2,x3)\n",
    "\n"
   ]
  },
  {
   "cell_type": "code",
   "execution_count": 44,
   "metadata": {},
   "outputs": [
    {
     "name": "stdout",
     "output_type": "stream",
     "text": [
      "0.014995686755130537\n"
     ]
    }
   ],
   "source": [
    "#7.11\n",
    "n =25\n",
    "mu = 10000\n",
    "s = 1192\n",
    "# p(mu  > 10550)\n",
    "\n",
    "t = (10550-mu)/(s/np.sqrt(n))\n",
    "p_val = stats.t.sf(t,df = n-1)\n",
    "print(p_val)"
   ]
  },
  {
   "cell_type": "code",
   "execution_count": 45,
   "metadata": {},
   "outputs": [
    {
     "name": "stdout",
     "output_type": "stream",
     "text": [
      "0.635378940502932 0.44971105584869864\n"
     ]
    }
   ],
   "source": [
    "# 7.12\n",
    "#1\n",
    "x1 = stats.chi2.cdf(15.2,df= 14)\n",
    "x2 = stats.chi2.sf(14,df=14)\n",
    "print(x1,x2)"
   ]
  },
  {
   "cell_type": "code",
   "execution_count": 46,
   "metadata": {},
   "outputs": [
    {
     "name": "stdout",
     "output_type": "stream",
     "text": [
      "9.34181776559197 24.99579013972863\n"
     ]
    }
   ],
   "source": [
    "#7.13\n",
    "x1 = stats.chi2.ppf(0.5,df=10)\n",
    "x2 = stats.chi2.isf(0.05,df=15)\n",
    "\n",
    "print(x1,x2)"
   ]
  },
  {
   "cell_type": "code",
   "execution_count": 47,
   "metadata": {},
   "outputs": [
    {
     "name": "stdout",
     "output_type": "stream",
     "text": [
      "166.7 168.5\n"
     ]
    }
   ],
   "source": [
    "#8.1\n",
    "lst = [165,172,157,138,180,175,159,149,190,182]\n",
    "print(np.mean(lst),np.median(lst) )"
   ]
  },
  {
   "cell_type": "code",
   "execution_count": 48,
   "metadata": {},
   "outputs": [
    {
     "name": "stdout",
     "output_type": "stream",
     "text": [
      "1.3925586109974042<= mu <= 1.6074413890025958\n"
     ]
    }
   ],
   "source": [
    "#8.2\n",
    "n=150\n",
    "mu = 1.5\n",
    "s = 0.8\n",
    "a = 0.1\n",
    "p_crit = stats.norm.isf(0.1/2)\n",
    "print(f\"{mu-p_crit*(s/np.sqrt(n))}<= mu <= {mu+p_crit*(s/np.sqrt(n))}\") "
   ]
  },
  {
   "cell_type": "code",
   "execution_count": 49,
   "metadata": {},
   "outputs": [
    {
     "name": "stdout",
     "output_type": "stream",
     "text": [
      "168.6477472191342<= mu <= 291.3522527808658\n"
     ]
    }
   ],
   "source": [
    "#8.3\n",
    "lst = [200,150,120,300,250,170,220,180,310,400]\n",
    "n=10\n",
    "a = 0.05\n",
    "# use t \n",
    "mu = np.mean(lst)\n",
    "s = np.std(lst,ddof=1)\n",
    "crit = stats.t.isf(0.05/2 , df = n-1) \n",
    "print(f\"{mu-crit*(s/np.sqrt(n))}<= mu <= {mu+crit*(s/np.sqrt(n))}\") \n"
   ]
  },
  {
   "cell_type": "code",
   "execution_count": 50,
   "metadata": {},
   "outputs": [
    {
     "name": "stdout",
     "output_type": "stream",
     "text": [
      "0.5333333333333333\n"
     ]
    }
   ],
   "source": [
    "#8.4\n",
    "n= 150\n",
    "x = 80\n",
    "print(x/n)"
   ]
  },
  {
   "cell_type": "code",
   "execution_count": 51,
   "metadata": {},
   "outputs": [
    {
     "name": "stdout",
     "output_type": "stream",
     "text": [
      "0.52\n",
      "0.44649878117243413 <= P <= 0.5935012188275659\n"
     ]
    }
   ],
   "source": [
    "#8.5\n",
    "n = 125\n",
    "x = 65\n",
    "#1\n",
    "p_hat = x/n\n",
    "print(p_hat)\n",
    "a = 0.1\n",
    "crit = stats.norm.isf(0.1/2)\n",
    "pq = np.sqrt(p_hat*(1-p_hat)/n)\n",
    "print(f\"{p_hat - crit*pq} <= P <= {p_hat+crit*pq}\")\n"
   ]
  },
  {
   "cell_type": "code",
   "execution_count": 52,
   "metadata": {},
   "outputs": [
    {
     "name": "stdout",
     "output_type": "stream",
     "text": [
      "0.018722639118515533 <=  P <=  0.021277360881484467\n"
     ]
    }
   ],
   "source": [
    "# 8.6\n",
    "n = 32500\n",
    "x = 650\n",
    "a = 0.1\n",
    "p_hat = x/n\n",
    "crit = stats.norm.isf(0.1/2)\n",
    "pq = np.sqrt(p_hat*(1-p_hat) / n)\n",
    "\n",
    "print(f\"{p_hat - crit*pq} <=  P <=  {p_hat + crit*pq}\")"
   ]
  },
  {
   "cell_type": "code",
   "execution_count": 53,
   "metadata": {},
   "outputs": [
    {
     "name": "stdout",
     "output_type": "stream",
     "text": [
      "238.66781609195402\n"
     ]
    }
   ],
   "source": [
    "# 8.7\n",
    "data = [40,64,49,41,57,49,61,36,72,42,47,80,57,62,26,40,53,63,42,44,50,70,92,55,60,42,63,54,24,78]\n",
    "print(np.var(data,ddof = 1))"
   ]
  },
  {
   "cell_type": "code",
   "execution_count": 54,
   "metadata": {},
   "outputs": [
    {
     "name": "stdout",
     "output_type": "stream",
     "text": [
      "151.37840431492018 <= O2 <= 431.31649176004277\n"
     ]
    }
   ],
   "source": [
    "# 8.8\n",
    "data = [40,64,49,41,57,49,61,36,72,42,47,80,57,62,26,40,53,63,42,44,50,70,92,55,60,42,63,54,24,78]\n",
    "n = len(data)\n",
    "a = 0.05\n",
    "s2 = np.var(data,ddof = 1)\n",
    "top = (n-1)*s2\n",
    "left_crit = stats.chi2.isf(a/2, df = n-1)\n",
    "right_crit = stats.chi2.ppf(a/2,df = n-1)\n",
    "\n",
    "print(f\"{top/left_crit} <= O2 <= {top/right_crit}\")\n"
   ]
  },
  {
   "cell_type": "code",
   "execution_count": 55,
   "metadata": {},
   "outputs": [
    {
     "name": "stdout",
     "output_type": "stream",
     "text": [
      "2.517991229277205 <= o2 <= 23.859835105009978\n"
     ]
    }
   ],
   "source": [
    "# 8.9\n",
    "n = 8\n",
    "mu = 18.6\n",
    "s = 2.4\n",
    "a = 0.05\n",
    "s2 =s*s\n",
    "\n",
    "top = (n-1)*s2\n",
    "\n",
    "right_crit = stats.chi2.isf(a/2,df = n-1)\n",
    "left_crit = stats.chi2.ppf(a/2,df=  n-1)\n",
    "\n",
    "print(f\"{top/right_crit} <= o2 <= {top/left_crit}\")\n",
    "\n"
   ]
  },
  {
   "cell_type": "code",
   "execution_count": 56,
   "metadata": {},
   "outputs": [
    {
     "name": "stdout",
     "output_type": "stream",
     "text": [
      "-1.2418471165676772 0.8928535125403201\n"
     ]
    }
   ],
   "source": [
    "#8.1\n",
    "# mu> 5.85\n",
    "# H0 : mu<= 5.85\n",
    "# H1 : mu>5.85\n",
    "# right tailed\n",
    "\n",
    "n = 30 \n",
    "data = [4.17,5.72,6.23,5.65,6.59,6.47,4.67,6.25,3.85,7.02,5.24,4.69,5.75,5.05,5.33,5.45,6.32,4.7,5.63,6.22,6.73,4.81,4.29,4.68,6.13,5.44,6.06,7.54,7.28,5.18]\n",
    "a = 0.05\n",
    "\n",
    "z_cal ,p_val = ztest(x1 = data,  value = 5.85  ,alternative = \"larger\")\n",
    "print(z_cal ,p_val)\n",
    "\n",
    "# p_val > a  = ยอมรับ H0 : mu <= 5.85 \n",
    "\n"
   ]
  },
  {
   "cell_type": "code",
   "execution_count": 57,
   "metadata": {},
   "outputs": [
    {
     "name": "stdout",
     "output_type": "stream",
     "text": [
      "0.260132990857236 0.8006146644674419\n"
     ]
    }
   ],
   "source": [
    "#8.2\n",
    "n=10\n",
    "data = [164,161,158,170,161,152,158,169,152,160]\n",
    "\n",
    "# H0 : mu = 160\n",
    "# H1 : mu != 160\n",
    "# two tailed\n",
    "\n",
    "a = 0.05\n",
    "\n",
    "t_cal , p_val = stats.ttest_1samp(a = data , popmean = 160 , alternative  = \"two-sided\")\n",
    "\n",
    "print(t_cal , p_val)\n",
    "\n",
    "# p_val  > a   = ยอมรับ  H0 คือ mu = 160"
   ]
  },
  {
   "cell_type": "code",
   "execution_count": 58,
   "metadata": {},
   "outputs": [
    {
     "name": "stdout",
     "output_type": "stream",
     "text": [
      "-5.281782935072749 0.0002595718418202789\n"
     ]
    }
   ],
   "source": [
    "#8.3\n",
    "# H0 : mu = 1\n",
    "# H1 : mu != 1\n",
    "# two tailed\n",
    "n = 12\n",
    "data = [0.68270656,0.98570868,0.4025518,0.42397662,0.92248197,0.59625324,0.61194484,0.98900446,0.30617307,0.36091738,0.21453245,0.64698407]\n",
    "a = 0.05\n",
    "\n",
    "t_cal , p_val = stats.ttest_1samp(a = data , popmean = 1 , alternative  = \"two-sided\")\n",
    "print(t_cal , p_val)\n",
    "\n",
    "# p_val < 0.05  ยอมรับ H1 : mu!=1"
   ]
  },
  {
   "cell_type": "code",
   "execution_count": 59,
   "metadata": {},
   "outputs": [
    {
     "name": "stdout",
     "output_type": "stream",
     "text": [
      "TtestResult(statistic=-4.113250934483508, pvalue=0.0006526941228295857, df=18.0)\n"
     ]
    }
   ],
   "source": [
    "# 8.4\n",
    "\n",
    "# H0 : mu1 = mu2\n",
    "# H1 : mu1 != mu2\n",
    "# two tailed\n",
    "\n",
    "data_A  = [5.47,3.91,5.81,4.11,6.86,4.52,5.24,4.96,5.64,6.73]\n",
    "data_B  = [6.04,7.93,7.53,7.69,6.90,6.68,6.00,7.63,5.86,8.26]\n",
    "a = 0.05\n",
    "x = stats.ttest_ind(a= data_A , b= data_B , equal_var = True , alternative = \"two-sided\")\n",
    "\n",
    "print(x)\n",
    "# p_val < a = ยอมรับ H1 : mu1 != mu2"
   ]
  },
  {
   "cell_type": "code",
   "execution_count": 60,
   "metadata": {},
   "outputs": [
    {
     "name": "stdout",
     "output_type": "stream",
     "text": [
      "0.4999999999999982\n",
      "0.003019779524328409\n"
     ]
    }
   ],
   "source": [
    "# 8.5\n",
    "s1 = 15\n",
    "s2 = 10\n",
    "n =50\n",
    "mu1 = 55\n",
    "mu2 = 62\n",
    "a = 0.05\n",
    "\n",
    "# mu1< mu2\n",
    "\n",
    "# H0 : mu1 >= mu2 \n",
    "# H1 : mu1 < mu2 \n",
    "# left tailed\n",
    "\n",
    "z_cal = (mu1-mu2)/(np.sqrt((s1*s1/n)+(s2*s2/n)))\n",
    "print(z)\n",
    "p_val = stats.norm.cdf(z_cal)\n",
    "print(p_val)\n",
    "# p_val < a  = ยอมรับ H1 : mu1 < mu2"
   ]
  },
  {
   "cell_type": "code",
   "execution_count": 61,
   "metadata": {},
   "outputs": [
    {
     "name": "stdout",
     "output_type": "stream",
     "text": [
      "TtestResult(statistic=3.4754503043912526, pvalue=0.021042340296756768, df=4.500758752141632)\n"
     ]
    }
   ],
   "source": [
    "#8.6\n",
    "# mu1 =mu2 ?\n",
    "# H0 : mu1 = mu2\n",
    "# H1 : mu1 != mu2 \n",
    "# two tailed\n",
    "a = 0.01 \n",
    "# o2_1 != o2_2\n",
    "\n",
    "data_A = [17.53,20.60,17.62,28.93,27.10]\n",
    "data_B = [15.59,14.76,13.32,12.45,12.79]\n",
    "\n",
    "x = stats.ttest_ind(a= data_A , b = data_B , equal_var = False , alternative = \"two-sided\" )\n",
    "print(x)\n",
    "# p_val > 0.01  = ยอมรับ H0 : mu1 = mmu2"
   ]
  },
  {
   "cell_type": "code",
   "execution_count": 62,
   "metadata": {},
   "outputs": [
    {
     "name": "stdout",
     "output_type": "stream",
     "text": [
      "(1.9999999999999996, 0.022750131948179216)\n"
     ]
    }
   ],
   "source": [
    "# 8.7\n",
    "n = 100\n",
    "x = 60\n",
    "a = 0.05\n",
    "P0  =50/100\n",
    "# P > 50%\n",
    "# H0 : P<= 50%\n",
    "# H1 : P> 50%\n",
    "# right tailed\n",
    "\n",
    "x = proportions_ztest(count  = x , nobs = n  , value =  50/100, alternative = \"larger\",prop_var = 50/100)\n",
    "print(x)\n",
    "# p_val  < a = ยอมรับ H1 : p>50"
   ]
  },
  {
   "cell_type": "code",
   "execution_count": 64,
   "metadata": {},
   "outputs": [
    {
     "name": "stdout",
     "output_type": "stream",
     "text": [
      "(0.7499999999999997, 0.22662735237686826)\n"
     ]
    }
   ],
   "source": [
    "# 8.8\n",
    "n = 36\n",
    "x = 9\n",
    "a = 0.01\n",
    "P0 = 1/5\n",
    "# P > P0\n",
    "# H0 : P<= P0\n",
    "# H1 : P > P0\n",
    "# right tailed\n",
    "\n",
    "x = proportions_ztest(count = x , nobs= n , value = P0, alternative =\"larger\",prop_var = P0)\n",
    "print(x)\n",
    "\n",
    "# P_val > a = ยอมรับ H0 : P < = P0"
   ]
  },
  {
   "cell_type": "code",
   "execution_count": 67,
   "metadata": {},
   "outputs": [
    {
     "name": "stdout",
     "output_type": "stream",
     "text": [
      "(0.8183170883849711, 0.20658807549365632)\n"
     ]
    }
   ],
   "source": [
    "# 8.9\n",
    "n1 = 200\n",
    "x1 = 100\n",
    "n2 = 100\n",
    "x2 = 60\n",
    "a = 0.1\n",
    "# P2-P1 > 5\n",
    "# H0 : P2-P1 <=5\n",
    "# H1 : P2-P1 >5\n",
    "x = proportions_ztest(count = [60,100] ,nobs = [100,200] , value = 5/100 , alternative = \"larger\")\n",
    "print(x)\n",
    "\n",
    "# p_val > a  = ยอมรับ H0 : p2-p1 <=5"
   ]
  },
  {
   "cell_type": "code",
   "execution_count": 68,
   "metadata": {},
   "outputs": [
    {
     "name": "stdout",
     "output_type": "stream",
     "text": [
      "(-0.6879891508352597, 0.49145961344336286)\n"
     ]
    }
   ],
   "source": [
    "#8.10\n",
    "n1 = 380\n",
    "x1 = 50\n",
    "n2 = 300\n",
    "x2 = 45\n",
    "a = 0.05\n",
    "# P1 - P2  = 0 \n",
    "# H0 : P1 - P2  =0 \n",
    "# H1 : P1 - P2 !=0\n",
    "# two tailed\n",
    "\n",
    "x = proportions_ztest(count = [x1,x2] , nobs = [n1,n2] , value = 0 , alternative = \"two-sided\")\n",
    "print(x)\n",
    "# p_val > a = ยอมรับ H0 : P1- P2 =0\n"
   ]
  },
  {
   "cell_type": "code",
   "execution_count": 71,
   "metadata": {},
   "outputs": [
    {
     "name": "stdout",
     "output_type": "stream",
     "text": [
      "21.61777777777778\n",
      "0.3036896185931133\n"
     ]
    }
   ],
   "source": [
    "# 8.11\n",
    "n = 20\n",
    "s = 32\n",
    "a = 0.01\n",
    "Q0 = 30\n",
    "# s2 > Q0\n",
    "# H0 : s2<= Q0\n",
    "# H1 : s2 > Q0\n",
    "\n",
    "chi2_cal = (n-1)*(s*s)/(Q0*Q0)\n",
    "print(chi2_cal)\n",
    "p_val = stats.chi2.sf(chi2_cal , df = n-1)\n",
    "print(p_val )\n",
    "# p_val > a = ยอมรับ H0 : s2 < = Q0"
   ]
  },
  {
   "cell_type": "code",
   "execution_count": 73,
   "metadata": {},
   "outputs": [
    {
     "name": "stdout",
     "output_type": "stream",
     "text": [
      "0.17454058719517154\n"
     ]
    }
   ],
   "source": [
    "# 8.12\n",
    "n = 22\n",
    "mu = 4.6\n",
    "s2 = 1.44\n",
    "a = 0.1\n",
    "Q2_0 = 1\n",
    "# Q2_0 = 1 ?\n",
    "# H0 : s2 = Q2_0\n",
    "# H1 : s2 != Q2_0\n",
    "\n",
    "chi2_cal = (n-1)*s2/Q2_0\n",
    "p_val  = 2*min(stats.chi2.cdf(chi2_cal,df = n-1) ,stats.chi2.sf(chi2_cal,df = n-1) )\n",
    "print(p_val)\n",
    "# p_val > a = ยอมรับ H0 : s2= Q2_0"
   ]
  },
  {
   "cell_type": "code",
   "execution_count": 74,
   "metadata": {},
   "outputs": [
    {
     "name": "stdout",
     "output_type": "stream",
     "text": [
      "5.714285714285715\n",
      "0.018849654674988146\n"
     ]
    }
   ],
   "source": [
    "# 8.13\n",
    "data_A = [36,34,32,35,50,46,45,38]\n",
    "data_B = [35,39,37,38,35,42,43,36,39,40]\n",
    "a = 0.01\n",
    "n1 = 8\n",
    "n2 = 10\n",
    "s2_1 = np.var(data_A, ddof = 1) \n",
    "s2_2 = np.var(data_B , ddof = 1)\n",
    "# H0 : Q2_1 /Q2_2 = 1\n",
    "# H1 : Q2_1 /Q2_2 !=1\n",
    "# two tailed\n",
    "f_cal = s2_1/s2_2\n",
    "print(f_cal)\n",
    "p_val = 2*min(stats.f.cdf(f_cal , dfn = n1-1,dfd = n2-1),stats.f.sf(f_cal,dfn = n1-1,dfd = n2-1))\n",
    "print(p_val)\n",
    "\n",
    "# p_val > a = ยอมรับ H0 : Q2_1 / Q2_2  = 1"
   ]
  },
  {
   "cell_type": "code",
   "execution_count": 75,
   "metadata": {},
   "outputs": [
    {
     "name": "stdout",
     "output_type": "stream",
     "text": [
      "1.405390080885217\n",
      "0.5804278116850289\n"
     ]
    }
   ],
   "source": [
    "# 8.14\n",
    "a = 0.1\n",
    "n1 = 13\n",
    "s1 = 50.17\n",
    "\n",
    "n2 = 12\n",
    "s2 = 42.32\n",
    "\n",
    "\n",
    "# H0 : Q2_1/Q2_2  = 1\n",
    "# H1 : Q2_1/Q2_2  != 1\n",
    "# twotailed\n",
    "\n",
    "f_cal = s1**2 / s2**2\n",
    "print(f_cal)\n",
    "\n",
    "p_val = 2*min (stats.f.cdf(f_cal , dfn = n1 -1 , dfd = n2 -1) ,stats.f.sf(f_cal  , dfn = n1 -1 , dfd = n2- 1))\n",
    "print(p_val)\n",
    "# p_val > a  = ยอมรับ  H0 : Q2_1 / Q2_2 = 1"
   ]
  },
  {
   "cell_type": "code",
   "execution_count": 77,
   "metadata": {},
   "outputs": [
    {
     "name": "stdout",
     "output_type": "stream",
     "text": [
      "TtestResult(statistic=-4.69041575982343, pvalue=0.0033593914959056015, df=6)\n"
     ]
    }
   ],
   "source": [
    "#8.15\n",
    "\n",
    "n = 7\n",
    "pre = [135,150,132,140,120,142,148]\n",
    "after = [139,155,135,140,125,145,150]\n",
    "a = 0.01\n",
    "\n",
    "# H0 : mu1 = mu2\n",
    "# H1 : mu1 != mu2 \n",
    "# two tailed\n",
    "\n",
    "x = stats.ttest_rel(a =pre,b=after , alternative = \"two-sided\")\n",
    "print(x)\n",
    "#p_val < a = ยอมรับ H1 : mu1 != mu2\n"
   ]
  },
  {
   "cell_type": "code",
   "execution_count": 79,
   "metadata": {},
   "outputs": [
    {
     "ename": "ValueError",
     "evalue": "shape mismatch: objects cannot be broadcast to a single shape.  Mismatch is between arg 0 with shape (4,) and arg 1 with shape (400,).",
     "output_type": "error",
     "traceback": [
      "\u001b[1;31m---------------------------------------------------------------------------\u001b[0m",
      "\u001b[1;31mValueError\u001b[0m                                Traceback (most recent call last)",
      "Cell \u001b[1;32mIn[79], line 9\u001b[0m\n\u001b[0;32m      7\u001b[0m p \u001b[38;5;241m=\u001b[39m [\u001b[38;5;241m2\u001b[39m\u001b[38;5;241m/\u001b[39m\u001b[38;5;241m8\u001b[39m,\u001b[38;5;241m2\u001b[39m\u001b[38;5;241m/\u001b[39m\u001b[38;5;241m8\u001b[39m,\u001b[38;5;241m1\u001b[39m\u001b[38;5;241m/\u001b[39m\u001b[38;5;241m8\u001b[39m,\u001b[38;5;241m3\u001b[39m\u001b[38;5;241m/\u001b[39m\u001b[38;5;241m8\u001b[39m]\n\u001b[0;32m      8\u001b[0m E \u001b[38;5;241m=\u001b[39m np\u001b[38;5;241m.\u001b[39mround(p\u001b[38;5;241m*\u001b[39m\u001b[38;5;241m100\u001b[39m)\n\u001b[1;32m----> 9\u001b[0m chi2_cal , p_va \u001b[38;5;241m=\u001b[39m \u001b[43mstats\u001b[49m\u001b[38;5;241;43m.\u001b[39;49m\u001b[43mchisquare\u001b[49m\u001b[43m(\u001b[49m\u001b[43mf_obs\u001b[49m\u001b[43m \u001b[49m\u001b[38;5;241;43m=\u001b[39;49m\u001b[43m \u001b[49m\u001b[43mO\u001b[49m\u001b[43m \u001b[49m\u001b[43m,\u001b[49m\u001b[43m \u001b[49m\u001b[43mf_exp\u001b[49m\u001b[43m \u001b[49m\u001b[38;5;241;43m=\u001b[39;49m\u001b[43m \u001b[49m\u001b[43mE\u001b[49m\u001b[43m)\u001b[49m\n\u001b[0;32m     10\u001b[0m \u001b[38;5;28mprint\u001b[39m()\n",
      "File \u001b[1;32mc:\\Users\\chona\\AppData\\Local\\Programs\\Python\\Python311\\Lib\\site-packages\\scipy\\stats\\_stats_py.py:8254\u001b[0m, in \u001b[0;36mchisquare\u001b[1;34m(f_obs, f_exp, ddof, axis)\u001b[0m\n\u001b[0;32m   8085\u001b[0m \u001b[38;5;28;01mdef\u001b[39;00m \u001b[38;5;21mchisquare\u001b[39m(f_obs, f_exp\u001b[38;5;241m=\u001b[39m\u001b[38;5;28;01mNone\u001b[39;00m, ddof\u001b[38;5;241m=\u001b[39m\u001b[38;5;241m0\u001b[39m, axis\u001b[38;5;241m=\u001b[39m\u001b[38;5;241m0\u001b[39m):\n\u001b[0;32m   8086\u001b[0m \u001b[38;5;250m    \u001b[39m\u001b[38;5;124;03m\"\"\"Calculate a one-way chi-square test.\u001b[39;00m\n\u001b[0;32m   8087\u001b[0m \n\u001b[0;32m   8088\u001b[0m \u001b[38;5;124;03m    The chi-square test tests the null hypothesis that the categorical data\u001b[39;00m\n\u001b[1;32m   (...)\u001b[0m\n\u001b[0;32m   8252\u001b[0m \n\u001b[0;32m   8253\u001b[0m \u001b[38;5;124;03m    \"\"\"\u001b[39;00m  \u001b[38;5;66;03m# noqa\u001b[39;00m\n\u001b[1;32m-> 8254\u001b[0m     \u001b[38;5;28;01mreturn\u001b[39;00m \u001b[43mpower_divergence\u001b[49m\u001b[43m(\u001b[49m\u001b[43mf_obs\u001b[49m\u001b[43m,\u001b[49m\u001b[43m \u001b[49m\u001b[43mf_exp\u001b[49m\u001b[38;5;241;43m=\u001b[39;49m\u001b[43mf_exp\u001b[49m\u001b[43m,\u001b[49m\u001b[43m \u001b[49m\u001b[43mddof\u001b[49m\u001b[38;5;241;43m=\u001b[39;49m\u001b[43mddof\u001b[49m\u001b[43m,\u001b[49m\u001b[43m \u001b[49m\u001b[43maxis\u001b[49m\u001b[38;5;241;43m=\u001b[39;49m\u001b[43maxis\u001b[49m\u001b[43m,\u001b[49m\n\u001b[0;32m   8255\u001b[0m \u001b[43m                            \u001b[49m\u001b[43mlambda_\u001b[49m\u001b[38;5;241;43m=\u001b[39;49m\u001b[38;5;124;43m\"\u001b[39;49m\u001b[38;5;124;43mpearson\u001b[39;49m\u001b[38;5;124;43m\"\u001b[39;49m\u001b[43m)\u001b[49m\n",
      "File \u001b[1;32mc:\\Users\\chona\\AppData\\Local\\Programs\\Python\\Python311\\Lib\\site-packages\\scipy\\stats\\_stats_py.py:8035\u001b[0m, in \u001b[0;36mpower_divergence\u001b[1;34m(f_obs, f_exp, ddof, axis, lambda_)\u001b[0m\n\u001b[0;32m   8033\u001b[0m \u001b[38;5;28;01mif\u001b[39;00m f_exp \u001b[38;5;129;01mis\u001b[39;00m \u001b[38;5;129;01mnot\u001b[39;00m \u001b[38;5;28;01mNone\u001b[39;00m:\n\u001b[0;32m   8034\u001b[0m     f_exp \u001b[38;5;241m=\u001b[39m np\u001b[38;5;241m.\u001b[39masanyarray(f_exp)\n\u001b[1;32m-> 8035\u001b[0m     bshape \u001b[38;5;241m=\u001b[39m \u001b[43mnp\u001b[49m\u001b[38;5;241;43m.\u001b[39;49m\u001b[43mbroadcast_shapes\u001b[49m\u001b[43m(\u001b[49m\u001b[43mf_obs_float\u001b[49m\u001b[38;5;241;43m.\u001b[39;49m\u001b[43mshape\u001b[49m\u001b[43m,\u001b[49m\u001b[43m \u001b[49m\u001b[43mf_exp\u001b[49m\u001b[38;5;241;43m.\u001b[39;49m\u001b[43mshape\u001b[49m\u001b[43m)\u001b[49m\n\u001b[0;32m   8036\u001b[0m     f_obs_float \u001b[38;5;241m=\u001b[39m _m_broadcast_to(f_obs_float, bshape)\n\u001b[0;32m   8037\u001b[0m     f_exp \u001b[38;5;241m=\u001b[39m _m_broadcast_to(f_exp, bshape)\n",
      "File \u001b[1;32mc:\\Users\\chona\\AppData\\Local\\Programs\\Python\\Python311\\Lib\\site-packages\\numpy\\lib\\stride_tricks.py:473\u001b[0m, in \u001b[0;36mbroadcast_shapes\u001b[1;34m(*args)\u001b[0m\n\u001b[0;32m    435\u001b[0m \u001b[38;5;250m\u001b[39m\u001b[38;5;124;03m\"\"\"\u001b[39;00m\n\u001b[0;32m    436\u001b[0m \u001b[38;5;124;03mBroadcast the input shapes into a single shape.\u001b[39;00m\n\u001b[0;32m    437\u001b[0m \n\u001b[1;32m   (...)\u001b[0m\n\u001b[0;32m    470\u001b[0m \u001b[38;5;124;03m(5, 6, 7)\u001b[39;00m\n\u001b[0;32m    471\u001b[0m \u001b[38;5;124;03m\"\"\"\u001b[39;00m\n\u001b[0;32m    472\u001b[0m arrays \u001b[38;5;241m=\u001b[39m [np\u001b[38;5;241m.\u001b[39mempty(x, dtype\u001b[38;5;241m=\u001b[39m[]) \u001b[38;5;28;01mfor\u001b[39;00m x \u001b[38;5;129;01min\u001b[39;00m args]\n\u001b[1;32m--> 473\u001b[0m \u001b[38;5;28;01mreturn\u001b[39;00m \u001b[43m_broadcast_shape\u001b[49m\u001b[43m(\u001b[49m\u001b[38;5;241;43m*\u001b[39;49m\u001b[43marrays\u001b[49m\u001b[43m)\u001b[49m\n",
      "File \u001b[1;32mc:\\Users\\chona\\AppData\\Local\\Programs\\Python\\Python311\\Lib\\site-packages\\numpy\\lib\\stride_tricks.py:422\u001b[0m, in \u001b[0;36m_broadcast_shape\u001b[1;34m(*args)\u001b[0m\n\u001b[0;32m    417\u001b[0m \u001b[38;5;250m\u001b[39m\u001b[38;5;124;03m\"\"\"Returns the shape of the arrays that would result from broadcasting the\u001b[39;00m\n\u001b[0;32m    418\u001b[0m \u001b[38;5;124;03msupplied arrays against each other.\u001b[39;00m\n\u001b[0;32m    419\u001b[0m \u001b[38;5;124;03m\"\"\"\u001b[39;00m\n\u001b[0;32m    420\u001b[0m \u001b[38;5;66;03m# use the old-iterator because np.nditer does not handle size 0 arrays\u001b[39;00m\n\u001b[0;32m    421\u001b[0m \u001b[38;5;66;03m# consistently\u001b[39;00m\n\u001b[1;32m--> 422\u001b[0m b \u001b[38;5;241m=\u001b[39m \u001b[43mnp\u001b[49m\u001b[38;5;241;43m.\u001b[39;49m\u001b[43mbroadcast\u001b[49m\u001b[43m(\u001b[49m\u001b[38;5;241;43m*\u001b[39;49m\u001b[43margs\u001b[49m\u001b[43m[\u001b[49m\u001b[43m:\u001b[49m\u001b[38;5;241;43m32\u001b[39;49m\u001b[43m]\u001b[49m\u001b[43m)\u001b[49m\n\u001b[0;32m    423\u001b[0m \u001b[38;5;66;03m# unfortunately, it cannot handle 32 or more arguments directly\u001b[39;00m\n\u001b[0;32m    424\u001b[0m \u001b[38;5;28;01mfor\u001b[39;00m pos \u001b[38;5;129;01min\u001b[39;00m \u001b[38;5;28mrange\u001b[39m(\u001b[38;5;241m32\u001b[39m, \u001b[38;5;28mlen\u001b[39m(args), \u001b[38;5;241m31\u001b[39m):\n\u001b[0;32m    425\u001b[0m     \u001b[38;5;66;03m# ironically, np.broadcast does not properly handle np.broadcast\u001b[39;00m\n\u001b[0;32m    426\u001b[0m     \u001b[38;5;66;03m# objects (it treats them as scalars)\u001b[39;00m\n\u001b[0;32m    427\u001b[0m     \u001b[38;5;66;03m# use broadcasting to avoid allocating the full array\u001b[39;00m\n",
      "\u001b[1;31mValueError\u001b[0m: shape mismatch: objects cannot be broadcast to a single shape.  Mismatch is between arg 0 with shape (4,) and arg 1 with shape (400,)."
     ]
    }
   ],
   "source": [
    "# 9.1\n",
    "a = 0.1\n",
    "# H0 อัตราส่วน = 2:2:1:3\n",
    "# H1 อัตราส่วน != 2:2:1:3\n",
    "\n",
    "O = [20,25,10,45]\n",
    "p = [2/8,2/8,1/8,3/8]\n",
    "E = np.round(p*100)\n",
    "chi2_cal , p_va = stats.chisquare(f_obs = O , f_exp = E)\n",
    "print()"
   ]
  },
  {
   "cell_type": "code",
   "execution_count": 80,
   "metadata": {},
   "outputs": [
    {
     "name": "stdout",
     "output_type": "stream",
     "text": [
      "Requirement already satisfied: statsmodels in c:\\users\\chona\\appdata\\local\\programs\\python\\python311\\lib\\site-packages (0.14.1)\n",
      "Requirement already satisfied: numpy<2,>=1.18 in c:\\users\\chona\\appdata\\local\\programs\\python\\python311\\lib\\site-packages (from statsmodels) (1.25.0)\n",
      "Requirement already satisfied: scipy!=1.9.2,>=1.4 in c:\\users\\chona\\appdata\\local\\programs\\python\\python311\\lib\\site-packages (from statsmodels) (1.11.4)\n",
      "Requirement already satisfied: pandas!=2.1.0,>=1.0 in c:\\users\\chona\\appdata\\local\\programs\\python\\python311\\lib\\site-packages (from statsmodels) (2.1.4)\n",
      "Requirement already satisfied: patsy>=0.5.4 in c:\\users\\chona\\appdata\\local\\programs\\python\\python311\\lib\\site-packages (from statsmodels) (0.5.6)\n",
      "Requirement already satisfied: packaging>=21.3 in c:\\users\\chona\\appdata\\roaming\\python\\python311\\site-packages (from statsmodels) (23.2)\n",
      "Requirement already satisfied: python-dateutil>=2.8.2 in c:\\users\\chona\\appdata\\roaming\\python\\python311\\site-packages (from pandas!=2.1.0,>=1.0->statsmodels) (2.8.2)\n",
      "Requirement already satisfied: pytz>=2020.1 in c:\\users\\chona\\appdata\\local\\programs\\python\\python311\\lib\\site-packages (from pandas!=2.1.0,>=1.0->statsmodels) (2023.3.post1)\n",
      "Requirement already satisfied: tzdata>=2022.1 in c:\\users\\chona\\appdata\\local\\programs\\python\\python311\\lib\\site-packages (from pandas!=2.1.0,>=1.0->statsmodels) (2023.4)\n",
      "Requirement already satisfied: six in c:\\users\\chona\\appdata\\roaming\\python\\python311\\site-packages (from patsy>=0.5.4->statsmodels) (1.16.0)\n",
      "Note: you may need to restart the kernel to use updated packages.\n"
     ]
    }
   ],
   "source": [
    "%pip install statsmodels"
   ]
  },
  {
   "cell_type": "code",
   "execution_count": null,
   "metadata": {},
   "outputs": [],
   "source": []
  }
 ],
 "metadata": {
  "kernelspec": {
   "display_name": "Python 3",
   "language": "python",
   "name": "python3"
  },
  "language_info": {
   "codemirror_mode": {
    "name": "ipython",
    "version": 3
   },
   "file_extension": ".py",
   "mimetype": "text/x-python",
   "name": "python",
   "nbconvert_exporter": "python",
   "pygments_lexer": "ipython3",
   "version": "3.11.4"
  }
 },
 "nbformat": 4,
 "nbformat_minor": 2
}
