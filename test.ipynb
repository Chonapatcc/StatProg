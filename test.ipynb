{
 "cells": [
  {
   "cell_type": "code",
   "execution_count": 2,
   "metadata": {},
   "outputs": [],
   "source": [
    "import pandas as pd\n",
    "import numpy as np\n",
    "from scipy import stats\n",
    "import statsmodels.api as sm\n",
    "from statsmodels.stats.weightstats import ztest\n",
    "from statsmodels.stats.proportion import proportions_ztest"
   ]
  },
  {
   "cell_type": "code",
   "execution_count": 46,
   "metadata": {},
   "outputs": [
    {
     "name": "stdout",
     "output_type": "stream",
     "text": [
      "0.9937903346742238 0.10564977366685535 1.2499999999999993 0.10564977366685535 0.4015141183333797 0.00964186994535833 0.7485711049046899 0.8812647420394695\n"
     ]
    }
   ],
   "source": [
    "#6.2\n",
    "#1\n",
    "x1 = stats.norm.cdf(2.5)\n",
    "x2 = stats.norm.sf(1.25)\n",
    "x2_2 = stats.norm.isf(x2)\n",
    "x2_3 = stats.norm.sf(x2_2)\n",
    "x3 = stats.norm.cdf(2.07) - stats.norm.cdf(0.2)\n",
    "x4 = stats.norm.cdf(-2.34)\n",
    "x5 = stats.norm.sf(-0.67)\n",
    "x6 = stats.norm.cdf(2.35)- stats.norm.cdf(-1.23)\n",
    "print(x1,x2,x2_2,x2_3,x3,x4,x5,x6)"
   ]
  },
  {
   "cell_type": "code",
   "execution_count": 4,
   "metadata": {},
   "outputs": [
    {
     "name": "stdout",
     "output_type": "stream",
     "text": [
      "0.6826894921370859\n",
      "0.04736129193961791\n"
     ]
    }
   ],
   "source": [
    "#6.3\n",
    "mu = 100 \n",
    "std = 15\n",
    "#1\n",
    "z1 = (85 -mu)/std\n",
    "z2 = (115 -mu)/std\n",
    "# 85 - 115\n",
    "pz = stats.norm.cdf(z2) - stats.norm.cdf(z1)\n",
    "print(pz)\n",
    "#2 125 - 150\n",
    "z1 = (125 -mu)/std\n",
    "z2 = (150 -mu)/std\n",
    "pz = stats.norm.cdf(z2) - stats.norm.cdf(z1)\n",
    "print(pz) "
   ]
  },
  {
   "cell_type": "code",
   "execution_count": 5,
   "metadata": {},
   "outputs": [
    {
     "name": "stdout",
     "output_type": "stream",
     "text": [
      "380.3001794416802\n"
     ]
    }
   ],
   "source": [
    "#6.4\n",
    "mu = 4.62\n",
    "std= 0.23\n",
    "z =( 5 - mu )/  std\n",
    "x1 = stats.norm.cdf(z)\n",
    "print(x1*400)"
   ]
  },
  {
   "cell_type": "code",
   "execution_count": 6,
   "metadata": {},
   "outputs": [
    {
     "name": "stdout",
     "output_type": "stream",
     "text": [
      "0.30853753872598755\n"
     ]
    }
   ],
   "source": [
    "#6.5\n",
    "mu = 5\n",
    "std = 0.2\n",
    "# x > 5.1\n",
    "z = (5.1- mu )/std\n",
    "x1 = stats.norm.sf(z)\n",
    "print(x1)"
   ]
  },
  {
   "cell_type": "code",
   "execution_count": 7,
   "metadata": {},
   "outputs": [
    {
     "name": "stdout",
     "output_type": "stream",
     "text": [
      "0.8975365981325916 0.10246340186740842 0.36201408216094333 0.050610858035589144 0.7422279324182091 0.8605105794742532\n"
     ]
    }
   ],
   "source": [
    "# 7.8\n",
    "x1 = stats.t.cdf(1.356,df = 10)\n",
    "x2 = stats.t.cdf(-1.356,df = 10)\n",
    "x3 = stats.t.cdf(2.07,df = 3) - stats.t.cdf(0.2,df = 3)\n",
    "x4 = stats.t.cdf(-2.34,df = 3) \n",
    "x5 = stats.t.sf(-0.67,df = 12 )\n",
    "x6 = stats.t.cdf(2.35,df = 12) - stats.t.cdf(-1.23,df = 12)\n",
    "print(x1,x2,x3,x4,x5,x6)"
   ]
  },
  {
   "cell_type": "code",
   "execution_count": 8,
   "metadata": {},
   "outputs": [
    {
     "name": "stdout",
     "output_type": "stream",
     "text": [
      "1.3721836411102863 2.353363434801827 2.178812829663418\n"
     ]
    }
   ],
   "source": [
    "# 7.9\n",
    "#1 \n",
    "x1 = stats.t.ppf(0.9,df=  10)\n",
    "x2 = stats.t.isf(0.05,df = 3)\n",
    "x3 = stats.t.isf(0.05/2,df = 12)\n",
    "print(x1,x2,x3)"
   ]
  },
  {
   "cell_type": "code",
   "execution_count": 9,
   "metadata": {},
   "outputs": [
    {
     "name": "stdout",
     "output_type": "stream",
     "text": [
      "\n",
      "2.671832495873435e-12 0.5 0.9803458248834213\n"
     ]
    }
   ],
   "source": [
    "# 7.10\n",
    "#1\n",
    "std = 2000\n",
    "n = 25\n",
    "mu = 10000\n",
    "t = (15000 - mu )/(std/np.sqrt(n))\n",
    "x1 = stats.t.sf(t,df = n-1)\n",
    "\n",
    "#print(x1)\n",
    "t = (10000 - mu )/(std/np.sqrt(n))\n",
    "x2 = stats.t.sf(t,df = n -1)\n",
    "t1 = (9000 - mu )/(std/np.sqrt(n))\n",
    "t2 = (11000 - mu )/(std/np.sqrt(n))\n",
    "x3 = stats.t.cdf(t2,df=n-1) -stats.t.cdf(t1,df=n-1)\n",
    "print()\n",
    "print(x1,x2,x3)\n",
    "\n"
   ]
  },
  {
   "cell_type": "code",
   "execution_count": 10,
   "metadata": {},
   "outputs": [
    {
     "name": "stdout",
     "output_type": "stream",
     "text": [
      "0.014995686755130537\n"
     ]
    }
   ],
   "source": [
    "#7.11\n",
    "n =25\n",
    "mu = 10000\n",
    "s = 1192\n",
    "# p(mu  > 10550)\n",
    "\n",
    "t = (10550-mu)/(s/np.sqrt(n))\n",
    "p_val = stats.t.sf(t,df = n-1)\n",
    "print(p_val)"
   ]
  },
  {
   "cell_type": "code",
   "execution_count": 11,
   "metadata": {},
   "outputs": [
    {
     "name": "stdout",
     "output_type": "stream",
     "text": [
      "0.635378940502932 0.44971105584869864\n"
     ]
    }
   ],
   "source": [
    "# 7.12\n",
    "#1\n",
    "x1 = stats.chi2.cdf(15.2,df= 14)\n",
    "x2 = stats.chi2.sf(14,df=14)\n",
    "print(x1,x2)"
   ]
  },
  {
   "cell_type": "code",
   "execution_count": 12,
   "metadata": {},
   "outputs": [
    {
     "name": "stdout",
     "output_type": "stream",
     "text": [
      "9.34181776559197 24.99579013972863\n"
     ]
    }
   ],
   "source": [
    "#7.13\n",
    "x1 = stats.chi2.ppf(0.5,df=10)\n",
    "x2 = stats.chi2.isf(0.05,df=15)\n",
    "\n",
    "print(x1,x2)"
   ]
  },
  {
   "cell_type": "code",
   "execution_count": 13,
   "metadata": {},
   "outputs": [
    {
     "name": "stdout",
     "output_type": "stream",
     "text": [
      "166.7 168.5\n"
     ]
    }
   ],
   "source": [
    "#8.1\n",
    "lst = [165,172,157,138,180,175,159,149,190,182]\n",
    "print(np.mean(lst),np.median(lst) )"
   ]
  },
  {
   "cell_type": "code",
   "execution_count": 14,
   "metadata": {},
   "outputs": [
    {
     "name": "stdout",
     "output_type": "stream",
     "text": [
      "1.3925586109974042<= mu <= 1.6074413890025958\n"
     ]
    }
   ],
   "source": [
    "#8.2\n",
    "n=150\n",
    "mu = 1.5\n",
    "s = 0.8\n",
    "a = 0.1\n",
    "p_crit = stats.norm.isf(0.1/2)\n",
    "print(f\"{mu-p_crit*(s/np.sqrt(n))}<= mu <= {mu+p_crit*(s/np.sqrt(n))}\") "
   ]
  },
  {
   "cell_type": "code",
   "execution_count": 15,
   "metadata": {},
   "outputs": [
    {
     "name": "stdout",
     "output_type": "stream",
     "text": [
      "168.6477472191342<= mu <= 291.3522527808658\n"
     ]
    }
   ],
   "source": [
    "#8.3\n",
    "lst = [200,150,120,300,250,170,220,180,310,400]\n",
    "n=10\n",
    "a = 0.05\n",
    "# use t \n",
    "mu = np.mean(lst)\n",
    "s = np.std(lst,ddof=1)\n",
    "crit = stats.t.isf(0.05/2 , df = n-1) \n",
    "print(f\"{mu-crit*(s/np.sqrt(n))}<= mu <= {mu+crit*(s/np.sqrt(n))}\") \n"
   ]
  },
  {
   "cell_type": "code",
   "execution_count": 16,
   "metadata": {},
   "outputs": [
    {
     "name": "stdout",
     "output_type": "stream",
     "text": [
      "0.5333333333333333\n"
     ]
    }
   ],
   "source": [
    "#8.4\n",
    "n= 150\n",
    "x = 80\n",
    "print(x/n)"
   ]
  },
  {
   "cell_type": "code",
   "execution_count": 17,
   "metadata": {},
   "outputs": [
    {
     "name": "stdout",
     "output_type": "stream",
     "text": [
      "0.52\n",
      "0.44649878117243413 <= P <= 0.5935012188275659\n"
     ]
    }
   ],
   "source": [
    "#8.5\n",
    "n = 125\n",
    "x = 65\n",
    "#1\n",
    "p_hat = x/n\n",
    "print(p_hat)\n",
    "a = 0.1\n",
    "crit = stats.norm.isf(0.1/2)\n",
    "pq = np.sqrt(p_hat*(1-p_hat)/n)\n",
    "print(f\"{p_hat - crit*pq} <= P <= {p_hat+crit*pq}\")\n"
   ]
  },
  {
   "cell_type": "code",
   "execution_count": 18,
   "metadata": {},
   "outputs": [
    {
     "name": "stdout",
     "output_type": "stream",
     "text": [
      "0.018722639118515533 <=  P <=  0.021277360881484467\n"
     ]
    }
   ],
   "source": [
    "# 8.6\n",
    "n = 32500\n",
    "x = 650\n",
    "a = 0.1\n",
    "p_hat = x/n\n",
    "crit = stats.norm.isf(0.1/2)\n",
    "pq = np.sqrt(p_hat*(1-p_hat) / n)\n",
    "\n",
    "print(f\"{p_hat - crit*pq} <=  P <=  {p_hat + crit*pq}\")"
   ]
  },
  {
   "cell_type": "code",
   "execution_count": 19,
   "metadata": {},
   "outputs": [
    {
     "name": "stdout",
     "output_type": "stream",
     "text": [
      "238.66781609195402\n"
     ]
    }
   ],
   "source": [
    "# 8.7\n",
    "data = [40,64,49,41,57,49,61,36,72,42,47,80,57,62,26,40,53,63,42,44,50,70,92,55,60,42,63,54,24,78]\n",
    "print(np.var(data,ddof = 1))"
   ]
  },
  {
   "cell_type": "code",
   "execution_count": 20,
   "metadata": {},
   "outputs": [
    {
     "name": "stdout",
     "output_type": "stream",
     "text": [
      "151.37840431492018 <= O2 <= 431.31649176004277\n"
     ]
    }
   ],
   "source": [
    "# 8.8\n",
    "data = [40,64,49,41,57,49,61,36,72,42,47,80,57,62,26,40,53,63,42,44,50,70,92,55,60,42,63,54,24,78]\n",
    "n = len(data)\n",
    "a = 0.05\n",
    "s2 = np.var(data,ddof = 1)\n",
    "top = (n-1)*s2\n",
    "left_crit = stats.chi2.isf(a/2, df = n-1)\n",
    "right_crit = stats.chi2.ppf(a/2,df = n-1)\n",
    "\n",
    "print(f\"{top/left_crit} <= O2 <= {top/right_crit}\")\n"
   ]
  },
  {
   "cell_type": "code",
   "execution_count": 21,
   "metadata": {},
   "outputs": [
    {
     "name": "stdout",
     "output_type": "stream",
     "text": [
      "2.517991229277205 <= o2 <= 23.859835105009978\n"
     ]
    }
   ],
   "source": [
    "# 8.9\n",
    "n = 8\n",
    "mu = 18.6\n",
    "s = 2.4\n",
    "a = 0.05\n",
    "s2 =s*s\n",
    "\n",
    "top = (n-1)*s2\n",
    "\n",
    "right_crit = stats.chi2.isf(a/2,df = n-1)\n",
    "left_crit = stats.chi2.ppf(a/2,df=  n-1)\n",
    "\n",
    "print(f\"{top/right_crit} <= o2 <= {top/left_crit}\")\n",
    "\n"
   ]
  },
  {
   "cell_type": "code",
   "execution_count": 22,
   "metadata": {},
   "outputs": [
    {
     "name": "stdout",
     "output_type": "stream",
     "text": [
      "-1.2418471165676772 0.8928535125403201\n"
     ]
    }
   ],
   "source": [
    "#8.1\n",
    "# mu> 5.85\n",
    "# H0 : mu<= 5.85\n",
    "# H1 : mu>5.85\n",
    "# right tailed\n",
    "\n",
    "n = 30 \n",
    "data = [4.17,5.72,6.23,5.65,6.59,6.47,4.67,6.25,3.85,7.02,5.24,4.69,5.75,5.05,5.33,5.45,6.32,4.7,5.63,6.22,6.73,4.81,4.29,4.68,6.13,5.44,6.06,7.54,7.28,5.18]\n",
    "a = 0.05\n",
    "\n",
    "z_cal ,p_val = ztest(x1 = data,  value = 5.85  ,alternative = \"larger\")\n",
    "print(z_cal ,p_val)\n",
    "\n",
    "# p_val > a  = ยอมรับ H0 : mu <= 5.85 \n",
    "\n"
   ]
  },
  {
   "cell_type": "code",
   "execution_count": 23,
   "metadata": {},
   "outputs": [
    {
     "name": "stdout",
     "output_type": "stream",
     "text": [
      "0.260132990857236 0.8006146644674419\n"
     ]
    }
   ],
   "source": [
    "#8.2\n",
    "n=10\n",
    "data = [164,161,158,170,161,152,158,169,152,160]\n",
    "\n",
    "# H0 : mu = 160\n",
    "# H1 : mu != 160\n",
    "# two tailed\n",
    "\n",
    "a = 0.05\n",
    "\n",
    "t_cal , p_val = stats.ttest_1samp(a = data , popmean = 160 , alternative  = \"two-sided\")\n",
    "\n",
    "print(t_cal , p_val)\n",
    "\n",
    "# p_val  > a   = ยอมรับ  H0 คือ mu = 160"
   ]
  },
  {
   "cell_type": "code",
   "execution_count": 24,
   "metadata": {},
   "outputs": [
    {
     "name": "stdout",
     "output_type": "stream",
     "text": [
      "-5.281782935072749 0.0002595718418202789\n"
     ]
    }
   ],
   "source": [
    "#8.3\n",
    "# H0 : mu = 1\n",
    "# H1 : mu != 1\n",
    "# two tailed\n",
    "n = 12\n",
    "data = [0.68270656,0.98570868,0.4025518,0.42397662,0.92248197,0.59625324,0.61194484,0.98900446,0.30617307,0.36091738,0.21453245,0.64698407]\n",
    "a = 0.05\n",
    "\n",
    "t_cal , p_val = stats.ttest_1samp(a = data , popmean = 1 , alternative  = \"two-sided\")\n",
    "print(t_cal , p_val)\n",
    "\n",
    "# p_val < 0.05  ยอมรับ H1 : mu!=1"
   ]
  },
  {
   "cell_type": "code",
   "execution_count": 25,
   "metadata": {},
   "outputs": [
    {
     "name": "stdout",
     "output_type": "stream",
     "text": [
      "TtestResult(statistic=-4.113250934483508, pvalue=0.0006526941228295857, df=18.0)\n"
     ]
    }
   ],
   "source": [
    "# 8.4\n",
    "\n",
    "# H0 : mu1 = mu2\n",
    "# H1 : mu1 != mu2\n",
    "# two tailed\n",
    "\n",
    "data_A  = [5.47,3.91,5.81,4.11,6.86,4.52,5.24,4.96,5.64,6.73]\n",
    "data_B  = [6.04,7.93,7.53,7.69,6.90,6.68,6.00,7.63,5.86,8.26]\n",
    "a = 0.05\n",
    "x = stats.ttest_ind(a= data_A , b= data_B , equal_var = True , alternative = \"two-sided\")\n",
    "\n",
    "print(x)\n",
    "# p_val < a = ยอมรับ H1 : mu1 != mu2"
   ]
  },
  {
   "cell_type": "code",
   "execution_count": 26,
   "metadata": {},
   "outputs": [
    {
     "name": "stdout",
     "output_type": "stream",
     "text": [
      "0.4999999999999982\n",
      "0.003019779524328409\n"
     ]
    }
   ],
   "source": [
    "# 8.5\n",
    "s1 = 15\n",
    "s2 = 10\n",
    "n =50\n",
    "mu1 = 55\n",
    "mu2 = 62\n",
    "a = 0.05\n",
    "\n",
    "# mu1< mu2\n",
    "\n",
    "# H0 : mu1 >= mu2 \n",
    "# H1 : mu1 < mu2 \n",
    "# left tailed\n",
    "\n",
    "z_cal = (mu1-mu2)/(np.sqrt((s1*s1/n)+(s2*s2/n)))\n",
    "print(z)\n",
    "p_val = stats.norm.cdf(z_cal)\n",
    "print(p_val)\n",
    "# p_val < a  = ยอมรับ H1 : mu1 < mu2"
   ]
  },
  {
   "cell_type": "code",
   "execution_count": 27,
   "metadata": {},
   "outputs": [
    {
     "name": "stdout",
     "output_type": "stream",
     "text": [
      "TtestResult(statistic=3.4754503043912526, pvalue=0.021042340296756768, df=4.500758752141632)\n"
     ]
    }
   ],
   "source": [
    "#8.6\n",
    "# mu1 =mu2 ?\n",
    "# H0 : mu1 = mu2\n",
    "# H1 : mu1 != mu2 \n",
    "# two tailed\n",
    "a = 0.01 \n",
    "# o2_1 != o2_2\n",
    "\n",
    "data_A = [17.53,20.60,17.62,28.93,27.10]\n",
    "data_B = [15.59,14.76,13.32,12.45,12.79]\n",
    "\n",
    "x = stats.ttest_ind(a= data_A , b = data_B , equal_var = False , alternative = \"two-sided\" )\n",
    "print(x)\n",
    "# p_val > 0.01  = ยอมรับ H0 : mu1 = mmu2"
   ]
  },
  {
   "cell_type": "code",
   "execution_count": 28,
   "metadata": {},
   "outputs": [
    {
     "name": "stdout",
     "output_type": "stream",
     "text": [
      "(1.9999999999999996, 0.022750131948179216)\n"
     ]
    }
   ],
   "source": [
    "# 8.7\n",
    "n = 100\n",
    "x = 60\n",
    "a = 0.05\n",
    "P0  =50/100\n",
    "# P > 50%\n",
    "# H0 : P<= 50%\n",
    "# H1 : P> 50%\n",
    "# right tailed\n",
    "\n",
    "x = proportions_ztest(count  = x , nobs = n  , value =  50/100, alternative = \"larger\",prop_var = 50/100)\n",
    "print(x)\n",
    "# p_val  < a = ยอมรับ H1 : p>50"
   ]
  },
  {
   "cell_type": "code",
   "execution_count": 29,
   "metadata": {},
   "outputs": [
    {
     "name": "stdout",
     "output_type": "stream",
     "text": [
      "(0.7499999999999997, 0.22662735237686826)\n"
     ]
    }
   ],
   "source": [
    "# 8.8\n",
    "n = 36\n",
    "x = 9\n",
    "a = 0.01\n",
    "P0 = 1/5\n",
    "# P > P0\n",
    "# H0 : P<= P0\n",
    "# H1 : P > P0\n",
    "# right tailed\n",
    "\n",
    "x = proportions_ztest(count = x , nobs= n , value = P0, alternative =\"larger\",prop_var = P0)\n",
    "print(x)\n",
    "\n",
    "# P_val > a = ยอมรับ H0 : P < = P0"
   ]
  },
  {
   "cell_type": "code",
   "execution_count": 30,
   "metadata": {},
   "outputs": [
    {
     "name": "stdout",
     "output_type": "stream",
     "text": [
      "(0.8183170883849711, 0.20658807549365632)\n"
     ]
    }
   ],
   "source": [
    "# 8.9\n",
    "n1 = 200\n",
    "x1 = 100\n",
    "n2 = 100\n",
    "x2 = 60\n",
    "a = 0.1\n",
    "# P2-P1 > 5\n",
    "# H0 : P2-P1 <=5\n",
    "# H1 : P2-P1 >5\n",
    "x = proportions_ztest(count = [60,100] ,nobs = [100,200] , value = 5/100 , alternative = \"larger\")\n",
    "print(x)\n",
    "\n",
    "# p_val > a  = ยอมรับ H0 : p2-p1 <=5"
   ]
  },
  {
   "cell_type": "code",
   "execution_count": 31,
   "metadata": {},
   "outputs": [
    {
     "name": "stdout",
     "output_type": "stream",
     "text": [
      "(-0.6879891508352597, 0.49145961344336286)\n"
     ]
    }
   ],
   "source": [
    "#8.10\n",
    "n1 = 380\n",
    "x1 = 50\n",
    "n2 = 300\n",
    "x2 = 45\n",
    "a = 0.05\n",
    "# P1 - P2  = 0 \n",
    "# H0 : P1 - P2  =0 \n",
    "# H1 : P1 - P2 !=0\n",
    "# two tailed\n",
    "\n",
    "x = proportions_ztest(count = [x1,x2] , nobs = [n1,n2] , value = 0 , alternative = \"two-sided\")\n",
    "print(x)\n",
    "# p_val > a = ยอมรับ H0 : P1- P2 =0\n"
   ]
  },
  {
   "cell_type": "code",
   "execution_count": 32,
   "metadata": {},
   "outputs": [
    {
     "name": "stdout",
     "output_type": "stream",
     "text": [
      "21.61777777777778\n",
      "0.3036896185931133\n"
     ]
    }
   ],
   "source": [
    "# 8.11\n",
    "n = 20\n",
    "s = 32\n",
    "a = 0.01\n",
    "Q0 = 30\n",
    "# s2 > Q0\n",
    "# H0 : s2<= Q0\n",
    "# H1 : s2 > Q0\n",
    "\n",
    "chi2_cal = (n-1)*(s*s)/(Q0*Q0)\n",
    "print(chi2_cal)\n",
    "p_val = stats.chi2.sf(chi2_cal , df = n-1)\n",
    "print(p_val )\n",
    "# p_val > a = ยอมรับ H0 : s2 < = Q0"
   ]
  },
  {
   "cell_type": "code",
   "execution_count": 33,
   "metadata": {},
   "outputs": [
    {
     "name": "stdout",
     "output_type": "stream",
     "text": [
      "0.17454058719517154\n"
     ]
    }
   ],
   "source": [
    "# 8.12\n",
    "n = 22\n",
    "mu = 4.6\n",
    "s2 = 1.44\n",
    "a = 0.1\n",
    "Q2_0 = 1\n",
    "# Q2_0 = 1 ?\n",
    "# H0 : s2 = Q2_0\n",
    "# H1 : s2 != Q2_0\n",
    "\n",
    "chi2_cal = (n-1)*s2/Q2_0\n",
    "p_val  = 2*min(stats.chi2.cdf(chi2_cal,df = n-1) ,stats.chi2.sf(chi2_cal,df = n-1) )\n",
    "print(p_val)\n",
    "# p_val > a = ยอมรับ H0 : s2= Q2_0"
   ]
  },
  {
   "cell_type": "code",
   "execution_count": 34,
   "metadata": {},
   "outputs": [
    {
     "name": "stdout",
     "output_type": "stream",
     "text": [
      "5.714285714285715\n",
      "0.018849654674988146\n"
     ]
    }
   ],
   "source": [
    "# 8.13\n",
    "data_A = [36,34,32,35,50,46,45,38]\n",
    "data_B = [35,39,37,38,35,42,43,36,39,40]\n",
    "a = 0.01\n",
    "n1 = 8\n",
    "n2 = 10\n",
    "s2_1 = np.var(data_A, ddof = 1) \n",
    "s2_2 = np.var(data_B , ddof = 1)\n",
    "# H0 : Q2_1 /Q2_2 = 1\n",
    "# H1 : Q2_1 /Q2_2 !=1\n",
    "# two tailed\n",
    "f_cal = s2_1/s2_2\n",
    "print(f_cal)\n",
    "p_val = 2*min(stats.f.cdf(f_cal , dfn = n1-1,dfd = n2-1),stats.f.sf(f_cal,dfn = n1-1,dfd = n2-1))\n",
    "print(p_val)\n",
    "\n",
    "# p_val > a = ยอมรับ H0 : Q2_1 / Q2_2  = 1"
   ]
  },
  {
   "cell_type": "code",
   "execution_count": 35,
   "metadata": {},
   "outputs": [
    {
     "name": "stdout",
     "output_type": "stream",
     "text": [
      "1.405390080885217\n",
      "0.5804278116850289\n"
     ]
    }
   ],
   "source": [
    "# 8.14\n",
    "a = 0.1\n",
    "n1 = 13\n",
    "s1 = 50.17\n",
    "\n",
    "n2 = 12\n",
    "s2 = 42.32\n",
    "\n",
    "\n",
    "# H0 : Q2_1/Q2_2  = 1\n",
    "# H1 : Q2_1/Q2_2  != 1\n",
    "# twotailed\n",
    "\n",
    "f_cal = s1**2 / s2**2\n",
    "print(f_cal)\n",
    "\n",
    "p_val = 2*min (stats.f.cdf(f_cal , dfn = n1 -1 , dfd = n2 -1) ,stats.f.sf(f_cal  , dfn = n1 -1 , dfd = n2- 1))\n",
    "print(p_val)\n",
    "# p_val > a  = ยอมรับ  H0 : Q2_1 / Q2_2 = 1"
   ]
  },
  {
   "cell_type": "code",
   "execution_count": 36,
   "metadata": {},
   "outputs": [
    {
     "name": "stdout",
     "output_type": "stream",
     "text": [
      "TtestResult(statistic=-4.69041575982343, pvalue=0.0033593914959056015, df=6)\n"
     ]
    }
   ],
   "source": [
    "#8.15\n",
    "\n",
    "n = 7\n",
    "pre = [135,150,132,140,120,142,148]\n",
    "after = [139,155,135,140,125,145,150]\n",
    "a = 0.01\n",
    "\n",
    "# H0 : mu1 = mu2\n",
    "# H1 : mu1 != mu2 \n",
    "# two tailed\n",
    "\n",
    "x = stats.ttest_rel(a =pre,b=after , alternative = \"two-sided\")\n",
    "print(x)\n",
    "#p_val < a = ยอมรับ H1 : mu1 != mu2\n"
   ]
  },
  {
   "cell_type": "code",
   "execution_count": 37,
   "metadata": {},
   "outputs": [
    {
     "name": "stdout",
     "output_type": "stream",
     "text": [
      "Power_divergenceResult(statistic=2.6228070175438596, pvalue=0.45350520411140927)\n"
     ]
    }
   ],
   "source": [
    "# 9.1\n",
    "a = 0.1\n",
    "# H0 อัตราส่วน = 2:2:1:3\n",
    "# H1 อัตราส่วน != 2:2:1:3\n",
    "\n",
    "O = np.array([20,25,10,45])\n",
    "p = np.array([2/8,2/8,1/8,3/8])\n",
    "E = np.round(p*100)\n",
    "x=stats.chisquare(f_obs = O , f_exp = E)\n",
    "print(x)\n",
    "# p_val > a = ยอมรับ  H0"
   ]
  },
  {
   "cell_type": "code",
   "execution_count": 38,
   "metadata": {},
   "outputs": [
    {
     "name": "stdout",
     "output_type": "stream",
     "text": [
      "Power_divergenceResult(statistic=1.92, pvalue=0.16585666034290605)\n"
     ]
    }
   ],
   "source": [
    "# 9.2\n",
    "# H0 : อัตราส่วน = 3:1\n",
    "# H1 : อัตราส่วน != 3:1\n",
    "a = 0.05\n",
    "O = np.array([69,31])\n",
    "p = np.array([3/4,1/4])\n",
    "E = np.round(p*100)\n",
    "x = stats.chisquare(f_obs= O , f_exp= E)\n",
    "print(x)\n",
    "# p_val > a = ยอมรับ H0"
   ]
  },
  {
   "cell_type": "code",
   "execution_count": 44,
   "metadata": {},
   "outputs": [
    {
     "name": "stdout",
     "output_type": "stream",
     "text": [
      "Power_divergenceResult(statistic=4.158596491228071, pvalue=0.24483999080719207)\n",
      "4.1585964912280735\n",
      "0.24483999080719174\n"
     ]
    }
   ],
   "source": [
    "#9.3\n",
    "# H0 = 1:2:2:3\n",
    "# H1 != 1:2:2:3\n",
    "a = 0.01\n",
    "O = np.array([16,17,27,40])\n",
    "p = np.array([1/8,2/8,2/8,3/8])\n",
    "E = np.round(100*p)\n",
    "x = stats.chisquare(f_obs= O , f_exp=E)\n",
    "print(x)\n",
    "# p_val > a = ยอมรับ H0\n",
    "p_val = 0.24483999080719207\n",
    "x = stats.chi2.isf(p_val,df  = 3)\n",
    "\n",
    "print(x)\n",
    "\n",
    "x = stats.chi2.sf(x,df  = 3)\n",
    "\n",
    "print(x)"
   ]
  },
  {
   "cell_type": "code",
   "execution_count": null,
   "metadata": {},
   "outputs": [
    {
     "name": "stdout",
     "output_type": "stream",
     "text": [
      "49.182\n"
     ]
    }
   ],
   "source": [
    " #9.4\n",
    "O = np.array([0,28,32,35,20,10,0])\n",
    "X_l = np.array([-np.inf,44.95,46.95,48.95,50.95,52.95,54.95])\n",
    "X_r = np.array([44.95,46.95,48.95,50.95,52.95,54.95,np.inf])\n",
    "x = (X_l+X_r)/2\n",
    "mu = sum(O[1:-1]*x[1:-1])/125\n",
    "print(mu)"
   ]
  },
  {
   "cell_type": "code",
   "execution_count": null,
   "metadata": {},
   "outputs": [
    {
     "name": "stdout",
     "output_type": "stream",
     "text": [
      "Chi2ContingencyResult(statistic=3.698126886532683, pvalue=0.29596012095597946, dof=3, expected_freq=array([[15.75, 10.35,  8.1 , 10.8 ],\n",
      "       [19.25, 12.65,  9.9 , 13.2 ]]))\n"
     ]
    }
   ],
   "source": [
    "#9.5\n",
    "n = 100\n",
    "O = [[15,13,5,12],[20,10,13,12]]\n",
    "x  = stats.chi2_contingency(O,correction =False)\n",
    "a = 0.05\n",
    "print(x)\n",
    "# p_val > a  = ยอมรับ H0"
   ]
  },
  {
   "cell_type": "code",
   "execution_count": null,
   "metadata": {},
   "outputs": [
    {
     "name": "stdout",
     "output_type": "stream",
     "text": [
      "Chi2ContingencyResult(statistic=79.16666666666666, pvalue=4.6320524991183165e-17, dof=3, expected_freq=array([[25., 30., 25., 20.],\n",
      "       [25., 30., 25., 20.]]))\n"
     ]
    }
   ],
   "source": [
    "# 9.6\n",
    "# H0 : อิสระ \n",
    "# H1 : ไม่อิสระ \n",
    "O = [[45,40,10,5],[5,20,40,35]]\n",
    "x = stats.chi2_contingency(O , correction = False)\n",
    "a = 0.05\n",
    "print(x)\n",
    "# p_val < a = ยอมรับ H1= ไม่อิสระ"
   ]
  },
  {
   "cell_type": "code",
   "execution_count": null,
   "metadata": {},
   "outputs": [
    {
     "name": "stdout",
     "output_type": "stream",
     "text": [
      "Chi2ContingencyResult(statistic=147.2218166279889, pvalue=8.016615211900999e-31, dof=4, expected_freq=array([[141.09565217, 145.72173913,  93.1826087 ],\n",
      "       [124.01565217, 128.08173913,  81.9026087 ],\n",
      "       [161.88869565, 167.19652174, 106.91478261]]))\n"
     ]
    }
   ],
   "source": [
    "#9.7\n",
    "#  H0 = อิสระ \n",
    "# H1 = ไม่อิสระ\n",
    "a = 0.05\n",
    "O = [[51,183,146],[173,104,57],[203,154,79]]\n",
    "\n",
    "x = stats.chi2_contingency(O,correction  = False)\n",
    "print(x)\n",
    "# p_val < a = ยอมรับ H1 = ไม่อิสระ"
   ]
  },
  {
   "cell_type": "code",
   "execution_count": null,
   "metadata": {},
   "outputs": [
    {
     "name": "stdout",
     "output_type": "stream",
     "text": [
      "Survived    0    1\n",
      "Sex               \n",
      "female     81  233\n",
      "male      468  109\n",
      "Chi2ContingencyResult(statistic=263.05057407065567, pvalue=3.7117477701134244e-59, dof=1, expected_freq=array([[193.47474747, 120.52525253],\n",
      "       [355.52525253, 221.47474747]]))\n"
     ]
    }
   ],
   "source": [
    "#9.8\n",
    "a = 0.01\n",
    "df = pd.read_csv(\"https://raw.githubusercontent.com/ThammakornS/ProgStat/main/dataset/titanic.csv\")\n",
    "O =  pd.crosstab(df.Sex,df.Survived)\n",
    "print(O)\n",
    "\n",
    "x = stats.chi2_contingency(O,correction  = False)\n",
    "print(x)\n",
    "#p_val < a  = ยอมรับ H1 = ไม่อิสระ"
   ]
  },
  {
   "cell_type": "code",
   "execution_count": null,
   "metadata": {},
   "outputs": [
    {
     "name": "stdout",
     "output_type": "stream",
     "text": [
      "PearsonRResult(statistic=0.8410425833995455, pvalue=0.0006081181882655855)\n"
     ]
    }
   ],
   "source": [
    "# 10.2 and 10.3\n",
    "df = pd.read_csv(\"https://raw.githubusercontent.com/ThammakornS/ProgStat/main/dataset/sale.csv\")\n",
    "x=  df.ad_cost\n",
    "y = df.sale\n",
    "a = 0.05\n",
    "ans = stats.pearsonr(x,y)\n",
    "print(ans)\n",
    "# p_val < a = ยอมรับ H1 = ไม่อิสระ"
   ]
  },
  {
   "cell_type": "code",
   "execution_count": null,
   "metadata": {},
   "outputs": [
    {
     "name": "stdout",
     "output_type": "stream",
     "text": [
      "PearsonRResult(statistic=0.86392120041863, pvalue=6.793657739462202e-05)\n"
     ]
    }
   ],
   "source": [
    "# 10.4\n",
    "df = pd.read_csv(\"https://raw.githubusercontent.com/ThammakornS/ProgStat/main/dataset/cosmetic.csv\")\n",
    "#print(df)\n",
    "x = df.mk_share\n",
    "y = df.payback_customer\n",
    "a = 0.05\n",
    "ans = stats.pearsonr(x,y)\n",
    "print(ans)\n",
    "# p_val < a = ยอมรับ H1 = ไม่อิสระ\n"
   ]
  },
  {
   "cell_type": "code",
   "execution_count": null,
   "metadata": {},
   "outputs": [
    {
     "name": "stdout",
     "output_type": "stream",
     "text": [
      "                            OLS Regression Results                            \n",
      "==============================================================================\n",
      "Dep. Variable:                   sale   R-squared:                       0.707\n",
      "Model:                            OLS   Adj. R-squared:                  0.678\n",
      "Method:                 Least Squares   F-statistic:                     24.17\n",
      "Date:                Fri, 22 Mar 2024   Prob (F-statistic):           0.000608\n",
      "Time:                        17:37:46   Log-Likelihood:                -31.561\n",
      "No. Observations:                  12   AIC:                             67.12\n",
      "Df Residuals:                      10   BIC:                             68.09\n",
      "Df Model:                           1                                         \n",
      "Covariance Type:            nonrobust                                         \n",
      "==============================================================================\n",
      "                 coef    std err          t      P>|t|      [0.025      0.975]\n",
      "------------------------------------------------------------------------------\n",
      "const         25.4655      4.170      6.107      0.000      16.174      34.757\n",
      "ad_cost        5.1946      1.057      4.916      0.001       2.840       7.549\n",
      "==============================================================================\n",
      "Omnibus:                        0.237   Durbin-Watson:                   2.071\n",
      "Prob(Omnibus):                  0.888   Jarque-Bera (JB):                0.144\n",
      "Skew:                           0.191   Prob(JB):                        0.930\n",
      "Kurtosis:                       2.622   Cond. No.                         16.4\n",
      "==============================================================================\n",
      "\n",
      "Notes:\n",
      "[1] Standard Errors assume that the covariance matrix of the errors is correctly specified.\n"
     ]
    },
    {
     "name": "stderr",
     "output_type": "stream",
     "text": [
      "c:\\Users\\chona\\AppData\\Local\\Programs\\Python\\Python311\\Lib\\site-packages\\scipy\\stats\\_stats_py.py:1806: UserWarning: kurtosistest only valid for n>=20 ... continuing anyway, n=12\n",
      "  warnings.warn(\"kurtosistest only valid for n>=20 ... continuing \"\n"
     ]
    }
   ],
   "source": [
    "# 10.5\n",
    "df = pd.read_csv(\"https://raw.githubusercontent.com/ThammakornS/ProgStat/main/dataset/sale.csv\")\n",
    "x=  df.ad_cost\n",
    "y = df.sale\n",
    "\n",
    "x_wconst = sm.add_constant(x)\n",
    "lr = sm.OLS(y,x_wconst).fit()\n",
    "print(lr.summary())"
   ]
  },
  {
   "cell_type": "code",
   "execution_count": null,
   "metadata": {},
   "outputs": [
    {
     "name": "stdout",
     "output_type": "stream",
     "text": [
      "                            OLS Regression Results                            \n",
      "==============================================================================\n",
      "Dep. Variable:               mk_share   R-squared:                       0.746\n",
      "Model:                            OLS   Adj. R-squared:                  0.725\n",
      "Method:                 Least Squares   F-statistic:                     35.31\n",
      "Date:                Fri, 22 Mar 2024   Prob (F-statistic):           6.79e-05\n",
      "Time:                        17:48:10   Log-Likelihood:                -28.283\n",
      "No. Observations:                  14   AIC:                             60.57\n",
      "Df Residuals:                      12   BIC:                             61.84\n",
      "Df Model:                           1                                         \n",
      "Covariance Type:            nonrobust                                         \n",
      "====================================================================================\n",
      "                       coef    std err          t      P>|t|      [0.025      0.975]\n",
      "------------------------------------------------------------------------------------\n",
      "const                4.4957      1.868      2.407      0.033       0.427       8.565\n",
      "payback_customer     0.5500      0.093      5.942      0.000       0.348       0.752\n",
      "==============================================================================\n",
      "Omnibus:                        0.325   Durbin-Watson:                   0.989\n",
      "Prob(Omnibus):                  0.850   Jarque-Bera (JB):                0.433\n",
      "Skew:                           0.275   Prob(JB):                        0.805\n",
      "Kurtosis:                       2.336   Cond. No.                         71.7\n",
      "==============================================================================\n",
      "\n",
      "Notes:\n",
      "[1] Standard Errors assume that the covariance matrix of the errors is correctly specified.\n"
     ]
    },
    {
     "name": "stderr",
     "output_type": "stream",
     "text": [
      "c:\\Users\\chona\\AppData\\Local\\Programs\\Python\\Python311\\Lib\\site-packages\\scipy\\stats\\_stats_py.py:1806: UserWarning: kurtosistest only valid for n>=20 ... continuing anyway, n=14\n",
      "  warnings.warn(\"kurtosistest only valid for n>=20 ... continuing \"\n"
     ]
    }
   ],
   "source": [
    "df = pd.read_csv(\"https://raw.githubusercontent.com/ThammakornS/ProgStat/main/dataset/cosmetic.csv\")\n",
    "#print(df)\n",
    "x = df.payback_customer\n",
    "y = df.mk_share\n",
    "\n",
    "x_wconst  = sm.add_constant(x) \n",
    "lr=sm.OLS(y,x_wconst).fit()\n",
    "print(lr.summary())\n"
   ]
  },
  {
   "cell_type": "code",
   "execution_count": null,
   "metadata": {},
   "outputs": [],
   "source": [
    "b0 =  -1.1905\n",
    "b1 = 1.3569   "
   ]
  }
 ],
 "metadata": {
  "kernelspec": {
   "display_name": "Python 3",
   "language": "python",
   "name": "python3"
  },
  "language_info": {
   "codemirror_mode": {
    "name": "ipython",
    "version": 3
   },
   "file_extension": ".py",
   "mimetype": "text/x-python",
   "name": "python",
   "nbconvert_exporter": "python",
   "pygments_lexer": "ipython3",
   "version": "3.11.4"
  }
 },
 "nbformat": 4,
 "nbformat_minor": 2
}
