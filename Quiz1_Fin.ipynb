{
 "cells": [
  {
   "cell_type": "code",
   "execution_count": 75,
   "metadata": {},
   "outputs": [],
   "source": [
    "import numpy as np\n",
    "import pandas as pd\n",
    "from scipy import stats\n",
    "#from scipy.stats import chi2_contingency\n",
    "import matplotlib.pyplot as plt\n",
    "import seaborn as sns\n",
    "sale = pd.read_csv(\"http://tinyurl.com/ProgStatMtcars\")\n"
   ]
  },
  {
   "cell_type": "code",
   "execution_count": 76,
   "metadata": {},
   "outputs": [
    {
     "name": "stdout",
     "output_type": "stream",
     "text": [
      "vs    0   1\n",
      "cyl        \n",
      "4     1  10\n",
      "6     3   4\n",
      "8    14   0\n",
      "[[ 1 10]\n",
      " [ 3  4]\n",
      " [14  0]]\n"
     ]
    }
   ],
   "source": [
    "cyl_vs = pd.crosstab(sale.cyl,sale.vs)\n",
    "print(cyl_vs.head(100))\n",
    "O = np.array(cyl_vs)\n",
    "print(O)"
   ]
  },
  {
   "cell_type": "code",
   "execution_count": 77,
   "metadata": {},
   "outputs": [
    {
     "name": "stdout",
     "output_type": "stream",
     "text": [
      "21.339929911358485 2.3232347637946903e-05 2 [[6.1875 4.8125]\n",
      " [3.9375 3.0625]\n",
      " [7.875  6.125 ]]\n",
      "2\n",
      "5.991464547107983\n"
     ]
    }
   ],
   "source": [
    "#1\n",
    "E = np.zeros(O.shape)\n",
    "for i in range(O.shape[0]):\n",
    "    for j in range(O.shape[1]):\n",
    "        E[i,j]=O[i].sum()*O[:,j].sum()/O.sum()\n",
    "        #print(O[i],O[:,j])\n",
    "chi2_cal,p_val,dof,E =stats.chi2_contingency(O,correction=False)\n",
    "print(chi2_cal,p_val,dof,E)\n",
    "\n",
    "v=(3-1)*(2-1)\n",
    "print(v)\n",
    "chi2_crit = stats.chi2.isf(0.05,2)\n",
    "print(chi2_crit)"
   ]
  },
  {
   "cell_type": "code",
   "execution_count": 83,
   "metadata": {},
   "outputs": [
    {
     "name": "stdout",
     "output_type": "stream",
     "text": [
      "vs    0   1\n",
      "cyl        \n",
      "4     1  10\n",
      "6     3   4\n",
      "8    14   0\n",
      "[11  7 14]\n",
      "32\n",
      "[13.  6. 13.]\n"
     ]
    }
   ],
   "source": [
    "#2\n",
    "print(cyl_vs.head(100))\n",
    "x = np.array(cyl_vs)\n",
    "#print(x)\n",
    "#print(n)\n",
    "O = np.array([sum(i) for i in x])\n",
    "print(O)\n",
    "n = sum(O)\n",
    "print(n)\n",
    "p = np.array([2/5,1/5,2/5])\n",
    "E = np.round(n*p)\n",
    "print(E)\n",
    "\n",
    "\n"
   ]
  },
  {
   "cell_type": "code",
   "execution_count": 86,
   "metadata": {},
   "outputs": [
    {
     "name": "stdout",
     "output_type": "stream",
     "text": [
      "0.5512820512820513 0.7590853740437935\n",
      "4.605170185988092\n"
     ]
    }
   ],
   "source": [
    "chi2_cal,p_val =stats.chisquare(f_obs=O,f_exp=E)\n",
    "print(chi2_cal,p_val)\n",
    "v= 3-1\n",
    "chi2_crit = stats.chi2.isf(0.1,v)\n",
    "print(chi2_crit)"
   ]
  },
  {
   "cell_type": "code",
   "execution_count": 99,
   "metadata": {},
   "outputs": [
    {
     "name": "stdout",
     "output_type": "stream",
     "text": [
      "-0.7761683718265864 1.7878352541210675e-07\n",
      "-6.629063017158836\n",
      "2.0452296421327034\n"
     ]
    }
   ],
   "source": [
    "#3\n",
    "#print(sale.hp.head(100))\n",
    "r,p_val = stats.pearsonr(x=sale.hp,y=sale.mpg)\n",
    "print(r,p_val)\n",
    "\n",
    "Sr = np.sqrt((1-r**2)/(31-2))\n",
    "t_cal =  r/(Sr)\n",
    "print(t_cal)\n",
    "t_crit_right = stats.t.isf(0.05/2,df= 31-2)\n",
    "print(t_crit_right)\n",
    "t_crit_left = -t_crit_right"
   ]
  },
  {
   "cell_type": "code",
   "execution_count": null,
   "metadata": {},
   "outputs": [],
   "source": []
  }
 ],
 "metadata": {
  "kernelspec": {
   "display_name": "Python 3",
   "language": "python",
   "name": "python3"
  },
  "language_info": {
   "codemirror_mode": {
    "name": "ipython",
    "version": 3
   },
   "file_extension": ".py",
   "mimetype": "text/x-python",
   "name": "python",
   "nbconvert_exporter": "python",
   "pygments_lexer": "ipython3",
   "version": "3.11.4"
  }
 },
 "nbformat": 4,
 "nbformat_minor": 2
}
